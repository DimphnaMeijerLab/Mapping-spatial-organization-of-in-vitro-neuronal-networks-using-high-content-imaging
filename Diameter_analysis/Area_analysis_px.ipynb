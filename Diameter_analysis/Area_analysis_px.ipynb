{
 "cells": [
  {
   "cell_type": "code",
   "execution_count": 7,
   "id": "c66f9cc1",
   "metadata": {},
   "outputs": [
    {
     "name": "stdout",
     "output_type": "stream",
     "text": [
      "\n",
      "Merged and converted area for DIV7:\n",
      "   DIV7_Area_um2_neurons\n",
      "0             139.528091\n",
      "1             118.260530\n",
      "2             174.168437\n",
      "3             172.718376\n",
      "4             152.578640\n",
      "\n",
      "Merged and converted area for DIV10:\n",
      "   DIV10_Area_um2_neurons\n",
      "0              147.261749\n",
      "1              306.446223\n",
      "2              188.185693\n",
      "3              103.115448\n",
      "4              159.506709\n",
      "\n",
      "Merged and converted area for DIV14:\n",
      "   DIV14_Area_um2_neurons\n",
      "0              146.939514\n",
      "1              143.394920\n",
      "2               97.154086\n",
      "3              120.999534\n",
      "4              106.015570\n"
     ]
    }
   ],
   "source": [
    "import pandas as pd\n",
    "\n",
    "# Load your Excel file (update the filename/path)\n",
    "df = pd.read_excel('HP_area_neurons_px.xlsx')\n",
    "\n",
    "# Calculate pixel size in micrometers (linear scale)\n",
    "px_to_um = 443.14 / 1104\n",
    "\n",
    "# Calculate area conversion factor (square of linear factor)\n",
    "area_conversion_factor = px_to_um ** 2\n",
    "\n",
    "# List your DIV groups\n",
    "divs = ['DIV7', 'DIV10', 'DIV14']\n",
    "\n",
    "merged_dict = {}\n",
    "\n",
    "for div in divs:\n",
    "    # Select columns that start with the DIV name\n",
    "    cols = [col for col in df.columns if col.startswith(div)]\n",
    "    \n",
    "    # Convert areas from px^2 to µm^2\n",
    "    df_um = df[cols] * area_conversion_factor\n",
    "    \n",
    "    # Flatten and merge all columns into one Series for this DIV\n",
    "    merged_series = pd.Series(df_um.values.ravel())\n",
    "    \n",
    "    merged_dict[div] = merged_series\n",
    "\n",
    "# Save and print the merged results for each DIV\n",
    "for div, series in merged_dict.items():\n",
    "    merged_df = pd.DataFrame(series, columns=[f'{div}_Area_um2_neurons'])\n",
    "    print(f\"\\nMerged and converted area for {div}:\")\n",
    "    print(merged_df.head())\n",
    "    \n",
    "    # Save to Excel file\n",
    "    merged_df.to_excel(f'{div}_Area_um2_merged_neurons.xlsx', index=False)"
   ]
  },
  {
   "cell_type": "code",
   "execution_count": 8,
   "id": "4afb0eaf",
   "metadata": {},
   "outputs": [
    {
     "name": "stdout",
     "output_type": "stream",
     "text": [
      "\n",
      "DIV7 with calculated diameters:\n",
      "   DIV7_Area_um2_neurons  Diameter_um_neurons\n",
      "0             139.528091            13.328641\n",
      "1             118.260530            12.270859\n",
      "2             174.168437            14.891546\n",
      "3             172.718376            14.829426\n",
      "4             152.578640            13.938047\n",
      "\n",
      "DIV10 with calculated diameters:\n",
      "   DIV10_Area_um2_neurons  Diameter_um_neurons\n",
      "0              147.261749            13.693045\n",
      "1              306.446223            19.752961\n",
      "2              188.185693            15.479195\n",
      "3              103.115448            11.458214\n",
      "4              159.506709            14.250974\n",
      "\n",
      "DIV14 with calculated diameters:\n",
      "   DIV14_Area_um2_neurons  Diameter_um_neurons\n",
      "0              146.939514            13.678055\n",
      "1              143.394920            13.512072\n",
      "2               97.154086            11.122069\n",
      "3              120.999534            12.412147\n",
      "4              106.015570            11.618228\n"
     ]
    }
   ],
   "source": [
    "import pandas as pd\n",
    "import numpy as np\n",
    "\n",
    "# List your DIV groups\n",
    "divs = ['DIV7', 'DIV10', 'DIV14']\n",
    "\n",
    "for div in divs:\n",
    "    # Load the Excel file created in the previous script\n",
    "    filename = f'{div}_Area_um2_merged_neurons.xlsx'\n",
    "    df = pd.read_excel(filename)\n",
    "\n",
    "    # Get the area column name\n",
    "    area_col = df.columns[0]\n",
    "\n",
    "    # Calculate diameter from area (assuming circular area)\n",
    "    df['Diameter_um_neurons'] = 2 * np.sqrt(df[area_col] / np.pi)\n",
    "\n",
    "    # Print preview\n",
    "    print(f\"\\n{div} with calculated diameters:\")\n",
    "    print(df.head())\n",
    "\n",
    "    # Save to new Excel file\n",
    "    output_filename = f'{div}_Area_Diameter_um_neurons.xlsx'\n",
    "    df.to_excel(output_filename, index=False)"
   ]
  },
  {
   "cell_type": "code",
   "execution_count": null,
   "id": "5c9f1187",
   "metadata": {},
   "outputs": [],
   "source": []
  }
 ],
 "metadata": {
  "kernelspec": {
   "display_name": "Python 3 (ipykernel)",
   "language": "python",
   "name": "python3"
  },
  "language_info": {
   "codemirror_mode": {
    "name": "ipython",
    "version": 3
   },
   "file_extension": ".py",
   "mimetype": "text/x-python",
   "name": "python",
   "nbconvert_exporter": "python",
   "pygments_lexer": "ipython3",
   "version": "3.11.5"
  }
 },
 "nbformat": 4,
 "nbformat_minor": 5
}
